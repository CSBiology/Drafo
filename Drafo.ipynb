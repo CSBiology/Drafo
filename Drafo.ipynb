
        {
            "cells": [
          {
           "cell_type": "markdown",
           "metadata": {},
           
           "source": ["## seriesToFrame\n",
"\n",
"The function `seriesToFrame` takes a Series of the type `\u003cKey,\u0027a\u003e` and turnes it into a Frame of the type `\u003cint,string\u003e`.\n",
"The function applies the value part of the `Key` as values in its own Column called `Values`. The key part of the `Key` is turned into column names\n",
"To get the Key type back in the Frame you can vor example index it with the `indexWithColumnValues` function\n",
"\n"]
          }
,
          {
           "cell_type": "code",
           "metadata": {},
            "execution_count": 2, "outputs": [
          {
           "data": {
            "text/plain": ["One Two Value ",
"0 -\u003e 4   2   1     ",
"1 -\u003e 2   5   2"]
        },
           "execution_count": 2,
           "metadata": {},
           "output_type": "execute_result"
          }],
           "source": ["let newKeyTest str a = Key().addCol(str,a)\n",
"let seriesForFrame:Series\u003cKey,_\u003e = \n",
"  [\n",
"    (newKeyTest \"One\" 4.).addCol (\"Two\",2.), 1.\n",
"    (newKeyTest \"One\" 2.).addCol (\"Two\",5.), 2.\n",
"  ]\n",
"  |\u003eseries\n",
"\n",
"let seriesToFrameTest = seriesToFrame seriesForFrame \n",
"\n",
"seriesToFrameTest.Print()\n"]
          }
,
          {
           "cell_type": "markdown",
           "metadata": {},
           
           "source": ["## indexWithColumnValues\n",
"\n",
"The function `indexWithColumnValues` takes the column keys defined in a Series that is provided and values in these columns and applies them as Keys into the Rows. The original column keys are maintained.\n",
"\n"]
          }
,
          {
           "cell_type": "code",
           "metadata": {},
            "execution_count": 3, "outputs": [
          {
           "data": {
            "text/plain": ["One Two Value ",
"One: 4",
"Two: 2",
" -\u003e 4   2   1     ",
"One: 2",
"Two: 5",
" -\u003e 2   5   2"]
        },
           "execution_count": 3,
           "metadata": {},
           "output_type": "execute_result"
          }],
           "source": ["let seriesToFrameTestIndexed = seriesToFrame seriesForFrame |\u003e indexWithColumnValues [\"One\"; \"Two\"]\n",
"\n",
"seriesToFrameTestIndexed.Print()\n"]
          }
,
          {
           "cell_type": "markdown",
           "metadata": {},
           
           "source": ["## getColumn\n",
"\n",
"The `getColumn` function gets a single column of the frame. It needs the exact name of the column key.\n",
"\n"]
          }
,
          {
           "cell_type": "code",
           "metadata": {},
            "execution_count": 4, "outputs": [
          {
           "data": {
            "text/plain": ["One: 4",
"Two: 2",
" -\u003e 2 ",
"One: 2",
"Two: 5",
" -\u003e 5"]
        },
           "execution_count": 4,
           "metadata": {},
           "output_type": "execute_result"
          }],
           "source": ["let getColumn2: Series\u003cKey,string\u003e = getColumn \"Two\" seriesToFrameTestIndexed\n",
"\n",
"getColumn2.Print()\n"]
          }
,
          {
           "cell_type": "markdown",
           "metadata": {},
           
           "source": ["## rowKeyToColumns\n",
"\n",
"The function `rowKeyoColumns` shifts the row keys of type Key into the columns and become strings. The value part of the Key type gets put into the new columns\n",
"\n"]
          }
,
          {
           "cell_type": "code",
           "metadata": {},
            "execution_count": 5, "outputs": [
          {
           "data": {
            "text/plain": ["c1,T1,r1  c2,T1,r1  ",
"row1: 1",
"row2: 3",
"    -\u003e 3         \u003cmissing\u003e ",
"row1: 10",
"row2: 100",
" -\u003e \u003cmissing\u003e 100       ",
"",
"     row1 row2 c1,T1,r1  c2,T1,r1  ",
"0 -\u003e 1    3    3         \u003cmissing\u003e ",
"1 -\u003e 10   100  \u003cmissing\u003e 100"]
        },
           "execution_count": 5,
           "metadata": {},
           "output_type": "execute_result"
          }],
           "source": ["let exmpColMajorFrameTwo =\n",
"  frame [\n",
"    ( \"c1,T1,r1\" )=\u003e series [(newKeyTest\"row1\" 1.).addCol (\"row2\", 3.),3.]\n",
"    ( \"c2,T1,r1\" )=\u003e series [(newKeyTest\"row1\" 10.).addCol(\"row2\" ,100.),100.]\n",
"  ]\n",
"\n",
"exmpColMajorFrameTwo.Print()\n",
"\n",
"let testRowToColumnKey = rowKeyToColumns exmpColMajorFrameTwo\n",
"\n",
"testRowToColumnKey.Print() \n"]
          }
,
          {
           "cell_type": "markdown",
           "metadata": {},
           
           "source": ["## createFilter\n",
"\n",
"The function `createFilter` needs a function that takes a input and gives a bool and a series of `\u003cKey,_\u003e`(most often a single column). It then gives a Series of `\u003cKey,bool\u003e`\n",
"that can be used in later functions as filter.\n",
"\n"]
          }
,
          {
           "cell_type": "code",
           "metadata": {},
            "execution_count": 6, "outputs": [
          {
           "data": {
            "text/plain": ["One: 4",
"Two: 2",
" -\u003e False ",
"One: 2",
"Two: 5",
" -\u003e True"]
        },
           "execution_count": 6,
           "metadata": {},
           "output_type": "execute_result"
          }],
           "source": ["let boolFunction a = \n",
"  if a \u003e 1. then true\n",
"  else false\n",
"\n",
"let letsCreateAFilter = createFilter boolFunction seriesForFrame\n",
"\n",
"letsCreateAFilter.Print()\n"]
          }
,
          {
           "cell_type": "markdown",
           "metadata": {},
           
           "source": ["## transform\n",
"\n",
"The `transform`function needs a function that turns \u0027a into \u0027b and a series that has the `\u003cKey,_\u003e` type (most often a single column) to transform your data\n",
"\n"]
          }
,
          {
           "cell_type": "code",
           "metadata": {},
            "execution_count": 7, "outputs": [
          {
           "data": {
            "text/plain": ["One: 4",
"Two: 2",
" -\u003e 0 ",
"One: 2",
"Two: 5",
" -\u003e 2"]
        },
           "execution_count": 7,
           "metadata": {},
           "output_type": "execute_result"
          }],
           "source": ["let transformFuction a= \n",
"  if a = 1. then 0.\n",
"  else a\n",
"\n",
"let letsTransformSomeSeries = transform transformFuction seriesForFrame\n",
"\n",
"letsTransformSomeSeries.Print()\n"]
          }
,
          {
           "cell_type": "markdown",
           "metadata": {},
           
           "source": ["## zip\n",
"\n",
"the `zip` function needs a function that takes two parameters and two series of type `\u003cKeytype,\u0027a\u003e` (most often a single column) which then zippes depending on the function used\n",
"\n"]
          }
,
          {
           "cell_type": "code",
           "metadata": {},
            "execution_count": 8, "outputs": [
          {
           "data": {
            "text/plain": ["row1: 1",
"row2: 3",
"    -\u003e \u003cmissing\u003e ",
"row1: 10",
"row2: 100",
" -\u003e \u003cmissing\u003e"]
        },
           "execution_count": 8,
           "metadata": {},
           "output_type": "execute_result"
          }],
           "source": ["let getColumnOne = exmpColMajorFrameTwo|\u003e getColumn\u003cfloat\u003e \"c1,T1,r1\"\n",
"\n",
"let getColumnTwo= exmpColMajorFrameTwo|\u003e getColumn\u003cfloat\u003e \"c2,T1,r1\"\n",
"\n",
"let zipped = zip (fun x y -\u003e x / y) getColumnOne getColumnTwo\n",
"\n",
"zipped.Print()\n"]
          }
,
          {
           "cell_type": "markdown",
           "metadata": {},
           
           "source": ["## dropKeyColumns and dropAllKeyColumnsBut\n",
"\n",
"`dropKeyColumns` and `dropAllKeyColumnsBut` takes a sequence of column keys and a Key.\n",
"the sequences should in the first case contain all columns that need to be dropped and in the second option all columns that will be kept\n",
"// the Key can contain any number of keys from which keys can be dropped\n",
"\n"]
          }
,
          {
           "cell_type": "code",
           "metadata": {},
            "execution_count": 9, "outputs": [
          {
           "data": {
            "text/plain": ["LLLL: 9",
"",
"c1,T1,r1: 0"]
        },
           "execution_count": 9,
           "metadata": {},
           "output_type": "execute_result"
          }],
           "source": ["let seriesForPropertyDrop = seq [\"c1,T1,r1\";\"c2,T1,r1\";\"c2,T1,r3\"]\n",
"\n",
"let keyForPropertyDrop = ( newKeyTest \"c1,T1,r1\" 0).addCol (\"LLLL\",9)\n",
"\n",
"\n",
"let dropsProperty = dropKeyColumns seriesForPropertyDrop keyForPropertyDrop\n",
"\n",
"let dropsAllPropBut =dropAllKeyColumnsBut seriesForPropertyDrop keyForPropertyDrop\n",
"\n",
"printfn(\"%O\")dropsProperty\n",
"printfn(\"%O\") dropsAllPropBut\n"]
          }
,
          {
           "cell_type": "markdown",
           "metadata": {},
           
           "source": ["## group functions\n",
"\n",
"The `groupTransform` functions takes a function of `op :\u0027a [] -\u003e \u0027a -\u003e \u0027b`, in this case the `dropAllKeyColumnsBut` function a `Seq\u003cstring\u003e and a Series\u003c\u0027KeyType, \u0027a\u003e`.\n",
"Depending on the function used the series gets transformed. While the `groupFilter` is a special version of it that uses `groupTransform` and needs\n",
"`op :\u0027a [] -\u003e \u0027a -\u003e bool`.\n",
"\n"]
          }
,
          {
           "cell_type": "code",
           "metadata": {},
            "execution_count": 10, "outputs": [
          {
           "data": {
            "text/plain": ["Two: 4",
"One: 2",
" -\u003e 0    ",
"Two: 2",
"One: 5",
" -\u003e -0.5 ",
"Two: 2",
"One: 7",
" -\u003e 0.5  ",
"",
"Two: 4",
"One: 2",
" -\u003e True  ",
"Two: 2",
"One: 5",
" -\u003e True  ",
"Two: 2",
"One: 7",
" -\u003e False"]
        },
           "execution_count": 10,
           "metadata": {},
           "output_type": "execute_result"
          }],
           "source": ["let seriesForFrameFloat:Series\u003cKey,_\u003e = \n",
"  [\n",
"    (newKeyTest \"Two\" 4).addCol (\"One\",2), 1.\n",
"    (newKeyTest \"Two\" 2).addCol (\"One\",5), 2.\n",
"    (newKeyTest \"Two\" 2).addCol (\"One\",7), 3. \n",
"  ]\n",
"  |\u003eseries\n",
"\n",
"let seriesForPropertyDropMod = seq [\"Two\"]\n",
"\n",
"let operation = \n",
"  fun (x:seq\u003cfloat\u003e) -\u003e \n",
"  let m = Seq.mean x\n",
"  fun x -\u003e x - m\n",
"\n",
"let tryGroupsTransform = groupTransform operation dropAllKeyColumnsBut seriesForPropertyDropMod seriesForFrameFloat\n",
"\n",
"tryGroupsTransform.Print()\n",
"\n",
"let opFilter= \n",
"  fun values -\u003e \n",
"  let mean = Seq.mean values\n",
"  (fun values -\u003e values \u003c= mean)\n",
"\n",
"let tryGroupsFilter = createGroupFilter opFilter dropAllKeyColumnsBut seriesForPropertyDropMod seriesForFrameFloat\n",
"\n",
"tryGroupsFilter.Print()\n"]
          }
,
          {
           "cell_type": "markdown",
           "metadata": {},
           
           "source": ["## aggregate\n",
"\n",
"The `aggregate` function uses a created filter to filter the given series of `\u003cKey,\u0027a\u003e` and everything that is not true is dropped. In this case only the first row is kept.\n",
"Then either `dropKeyColumns` or `dropAllKeyColumnsBut` or a user defined function is applied to the filtered series that was turned into a frame. In the end\n",
"the op function is applied\n",
"\n"]
          }
,
          {
           "cell_type": "code",
           "metadata": {},
            "execution_count": 11, "outputs": [
          {
           "data": {
            "text/plain": ["Two: 2",
" -\u003e 2.5"]
        },
           "execution_count": 11,
           "metadata": {},
           "output_type": "execute_result"
          }],
           "source": ["let letsTransformAFilter = seq [(createFilter boolFunction seriesForFrameFloat)]\n",
"\n",
"let op =fun (x:seq\u003cfloat\u003e) -\u003e Seq.mean x\n",
"\n",
"let aggregations = aggregate op dropAllKeyColumnsBut seriesForPropertyDropMod letsTransformAFilter seriesForFrameFloat\n",
"\n",
"aggregations.Print()\n"]
          }
,
          {
           "cell_type": "markdown",
           "metadata": {},
           
           "source": ["## assemble\n",
"\n",
"`assemble` takes a sequence of Series and creates a frame\n",
"\n"]
          }
,
          {
           "cell_type": "code",
           "metadata": {},
            "execution_count": 12, "outputs": [
          {
           "data": {
            "text/plain": ["One Two ",
"Two: 1",
"T: 2",
" -\u003e 6   6   ",
"Two: 3",
"T: 5",
" -\u003e 9   9"]
        },
           "execution_count": 12,
           "metadata": {},
           "output_type": "execute_result"
          }],
           "source": ["let forKeySeriesOne:Series\u003c_,int\u003e = seq [(newKeyTest\"Two\" 1).addCol(\"T\",2), 6;(newKeyTest\"Two\" 3).addCol(\"T\",5), 9]|\u003eseries\n",
"\n",
"let forKeySeriesTwo:Series\u003c_,int\u003e = seq [(newKeyTest\"Two\" 1).addCol(\"T\",2), 6;(newKeyTest\"Two\" 3).addCol(\"T\",5), 9]|\u003eseries\n",
"\n",
"let assembly = \n",
"  assemble \n",
"    [\n",
"      \"One\",forKeySeriesOne:\u003eISeries\u003cKey\u003e\n",
"      \"Two\",forKeySeriesTwo:\u003eISeries\u003cKey\u003e\n",
"    ]\n",
"\n",
"assembly.Print()\n"]
          }
,
          {
           "cell_type": "markdown",
           "metadata": {},
           
           "source": ["## pivot\n",
"\n",
"`pivot` is a function that takes a string and a Frame. The string decides which row `Key` is applied to the column key, the value part is applied.\n",
"The values in rows that were deleted are moved into the still existing rows\n",
"\n"]
          }
,
          {
           "cell_type": "code",
           "metadata": {},
            "execution_count": 13, "outputs": [
          {
           "data": {
            "text/plain": ["4.One     4.Two     4.Value   2.One     2.Two     2.Value   ",
"Two: 2",
" -\u003e 4         2         1         \u003cmissing\u003e \u003cmissing\u003e \u003cmissing\u003e ",
"Two: 5",
" -\u003e \u003cmissing\u003e \u003cmissing\u003e \u003cmissing\u003e 2         5         2"]
        },
           "execution_count": 13,
           "metadata": {},
           "output_type": "execute_result"
          }],
           "source": ["let testString =\"One\"\n",
"\n",
"let testPivot = pivot testString seriesToFrameTestIndexed\n",
"\n",
"testPivot.Print()\n"]
          }
,
          {
           "cell_type": "markdown",
           "metadata": {},
           
           "source": ["## module NumericAggregation\n",
"\n",
"`NumericAggregation` does either the mean, median or float based on your input. For that it needs a Frame\n",
"of `\u003cKey,_\u003e` a fliter, a `\u003cseq \u003cSeries \u003cKey,bool\u003e\u003e\u003e` or a `\u003cseq \u003cseq \u003cSeries \u003cKey,bool\u003e\u003e\u003e\u003e`, that say which values should be aggregated and for a singel column a string\n",
"The module has two functions either `numAgAllCol`that aggregates over all columns or `numAggregat`that agggregates one column\n",
"The result is a Frame\u003cKey,string\u003e\n",
"\n",
"## module NumericFilter\n",
"\n",
"`NumericFilter` is a module that can say if values in a given column are bigger or smaller than a given value.\n",
"The resultant series of the type `\u003cKey,bool\u003e`.\n",
"The input Frame needs to be of the type Frame`\u003cKey,_\u003e`.\n",
"The module has one function for all columns in a frame: `numericFilterServeralCol` and one for a single `columnnumericFilter` which also needs a string to determine the column\n",
"\n",
"## module NumericTransform\n",
"\n",
"The `NumericTransform` has five operations that can be done on all values in either a column(series) or a frame:\n",
"| Log2\n",
"| Subtract\n",
"| Add\n",
"| DivideBy\n",
"| MultiplyBy\n",
"\n",
"These are can be either used on a full frame, `numericTransformAllCols`, or on a single column, `numericTransformOneCol`.\n",
"Both need a Frame of the type `\u003cKey,_\u003e` and a seq\u003cstring\u003e, to determine which columns are dropped but `numericTransform`\n",
"needs a string to determine the column.\n",
"\n",
"## moduleGroupWiseNumericTransform\n",
"\n",
"The `GroupWiseNumericTransform` has four operations:\n",
"| DivideByMedian\n",
"| DivideByMean\n",
"| SubtractMedian\n",
"| SubtractMean\n",
"\n",
"These are can be either used on a full frame,`groupWiseNumericTransformAllCols` , or on a single column, `groupWiseNumericTransform`.\n",
"Both need a Frame of the type `\u003cKey,_\u003e` and a seq\u003cstring\u003e, to determine which columns are dropped but `groupWiseNumericTransform`\n",
"needs a string to determine the column.\n",
"\n",
"## module GroupFilter\n",
"\n",
"`Groupfilter` filters the given Frame of `\u003cKey,_\u003e`. If a value of a Series (column), is either a bigger or lower than the given Tukey or stdev of the series than the bool is \u003cfalse\u003e otherwise it is \u003ctrue\u003e\n",
"The end result is a Series of Key true/false pairs or a seq of series `\u003cKey,bool\u003e` for the variant that iterates over the entire frame.\n",
"`groupFilter` only uses one column of a Frame and `groupFilterAllCol`iterats over the entire frame\n",
"\n",
"## module StringAggregation\n",
"\n",
"StrinAggregation concatenates string in the provide Series of `\u003cKey,string\u003e`.\n",
"This happens based on the filter provided.\n",
"`stAggregate` only uses one column of a Frame and `stAggregateFullFrame` iterates over the entire frame\n",
"\n"]
          }],
            "metadata": {
            "kernelspec": {"display_name": ".NET (F#)", "language": "F#", "name": ".net-fsharp"},
            "langauge_info": {
        "file_extension": ".fs",
        "mimetype": "text/x-fsharp",
        "name": "C#",
        "pygments_lexer": "fsharp",
        "version": "4.5"
        }
        },
            "nbformat": 4,
            "nbformat_minor": 1
        }
        


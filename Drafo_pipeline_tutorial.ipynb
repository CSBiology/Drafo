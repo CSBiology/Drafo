
        {
            "cells": [
          {
           "cell_type": "markdown",
           "metadata": {},
           
           "source": ["## Example workflow\n",
"\n",
"If one has a csv that contains the data, the first question is whether the frame contains columns that are needed for the indexing.\n",
"\n",
"Should this be the case one can use the `readAndIndexFrame`, is that not the case one has first to reading the frame with\n",
"\n",
"`readFrame` add the columns that are needed for indexing and then index with `indexWithColumnValues`.\n",
"\n",
"You will need to index with at least 2 columns should you wish to `aggregate` because then can have the same Key\n",
"\n",
"value pairs in one column as needed/wished for the aggregation. Each time you want to aggregate means you have to have an additional column\n",
"\n",
"for the indexing. Keep in mind that you can use functions of the `GroupTransform` module as often as you want because the row keys are not changed. In this example we go with 2 aggregations because we have biological and technical replicates.\n",
"\n"]
          }
,
          {
           "cell_type": "code",
           "metadata": {},
            "execution_count": 2, "outputs": [
          {
           "data": {
            "text/plain": [""]
        },
           "execution_count": 2,
           "metadata": {},
           "output_type": "execute_result"
          }],
           "source": ["let frameForTutorial = \n",
"\n",
"frame [\n",
"\n",
"(\"ConditionA\")=\u003e series [\"row1\" =\u003e 2.;\"row2\" =\u003e3.;\"row3\" =\u003e1.;\"row4\" =\u003e7.]\n",
"\n",
"(\"ConditionB\")=\u003e series [\"row1\" =\u003e 2.4;\"row2\" =\u003e4.5;\"row3\" =\u003e6.1;\"row4\" =\u003e5.1] \n",
"\n",
"]\n",
"\n",
"|\u003eFrame.addCol \"Gen\"(series [\"row1\" =\u003e \"A\" ;\"row2\" =\u003e\"A\";\"row3\" =\u003e\"A\";\"row4\" =\u003e\"A\"])\n",
"\n",
"|\u003eFrame.addCol \"technicalReplicate\"(series [\"row1\" =\u003e \"B\" ;\"row2\" =\u003e\"B\";\"row3\" =\u003e\"C\";\"row4\" =\u003e\"C\"])\n",
"\n",
"|\u003eFrame.addCol \"BioRep\"(series [\"row1\" =\u003e \"D\" ;\"row2\" =\u003e\"E\";\"row3\" =\u003e\"D\";\"row4\" =\u003e\"E\"])\n",
"\n",
"\n",
"\n",
"let indexedTutorialFrame = indexWithColumnValues [\"Gen\";\"technicalReplicate\";\"BioRep\"] frameForTutorial\n",
"\n",
"indexedTutorialFrame.Print()\n"]
          }
,
          {
           "cell_type": "markdown",
           "metadata": {},
           
           "source": ["!!!!\n",
"\n",
"Keep in mind that the function working on the whole frame will error should\n",
"\n",
"you have strings as values inside the frame for the `NumericAggregation` function or ints/floats for the `StringAggregation`.\n",
"\n",
"So remove the values/columns or use the single column versions multiple times.\n",
"\n",
"!!!!\n",
"\n"]
          }
,
          {
           "cell_type": "code",
           "metadata": {},
            "execution_count": 3, "outputs": [
          {
           "data": {
            "text/plain": [""]
        },
           "execution_count": 3,
           "metadata": {},
           "output_type": "execute_result"
          }],
           "source": ["let indexedFrameWithoutIndexingColumns = \n",
"\n",
"indexedTutorialFrame\n",
"\n",
"|\u003eFrame.dropCol \"Gen\"\n",
"\n",
"|\u003eFrame.dropCol \"technicalReplicate\"\n",
"\n",
"|\u003eFrame.dropCol \"BioRep\"\n",
"\n",
"\n",
"\n",
"\n",
"\n",
"indexedFrameWithoutIndexingColumns.Print()\n"]
          }
,
          {
           "cell_type": "markdown",
           "metadata": {},
           
           "source": ["As you can see each row has multiple Key objects and the combinations are unique.\n",
"\n",
"Now one can create a filter with either the `NumericFilter` or `GroupFilter` module functions.\n",
"\n",
"to use the resultant series\u003cKey,bool\u003e or seq series\u003cKey,bool\u003e one has to keep in mind that the functions in the\n",
"\n",
"`NumericAggregation` and `StringAggregation` modules need for each column a seq of series\u003cKey,bool\u003e, so one needs\n",
"\n",
"to create a seq of seq of series\u003cKey,bool\u003e for the function that affect the whole frame. If not done correctly this could\n",
"\n",
"result in an error(an empty filter is not suitable for the functions working on the whole frame!).\n",
"\n",
"When you have a suitable seq of series\u003cKey,bool\u003e or seq of seq of series\u003cKey,bool\u003e then one can then use\n",
"\n",
"the aggregation module of choice.\n",
"\n",
"Let\u0027s look back at our example with filters that filters would always say true, we want the Mean, and we use the seq [\"Gen\";\"technicalReplicate\"]() to determine that Rep.\n",
"\n"]
          }
,
          {
           "cell_type": "code",
           "metadata": {},
            "execution_count": 4, "outputs": [
          {
           "data": {
            "text/plain": [""]
        },
           "execution_count": 4,
           "metadata": {},
           "output_type": "execute_result"
          }],
           "source": ["let filterA = numericFilterServeralCol (IsBiggerThan 0.5) indexedFrameWithoutIndexingColumns\n",
"\n",
"let filterB = numericFilterServeralCol (IsSmallerThan 100.) indexedFrameWithoutIndexingColumns\n",
"\n",
"\n",
"\n",
"let seqOfFilterMulty filterOne filterTwo = \n",
"\n",
"filterOne\n",
"\n",
"|\u003eSeq.mapi (fun i x -\u003e \n",
"\n",
"let colKeysForSeq seqIt b= \n",
"\n",
"seqIt\n",
"\n",
"|\u003eSeq.item b\n",
"\n",
"let cIII = seq [x;colKeysForSeq filterTwo i]\n",
"\n",
"cIII)\n",
"\n",
"\n",
"\n",
"let aggregatedFrameA = numAgAllCol Mean indexedFrameWithoutIndexingColumns [\"Gen\";\"technicalReplicate\"] (seqOfFilterMulty filterA filterB)\n",
"\n",
"aggregatedFrameA.Print()\n"]
          }
,
          {
           "cell_type": "markdown",
           "metadata": {},
           
           "source": ["As you can see the `BioRep` parts of the keys was dropped and we aggregated Keys that were identical.\n",
"\n",
"Now we also want to do the median of the `technicalReplicate`. For that we need new filters and need to adjust the input parameters.\n",
"\n"]
          }
,
          {
           "cell_type": "code",
           "metadata": {},
            "execution_count": 5, "outputs": [
          {
           "data": {
            "text/plain": [""]
        },
           "execution_count": 5,
           "metadata": {},
           "output_type": "execute_result"
          }],
           "source": ["let filterC = numericFilterServeralCol (IsBiggerThan 0.5) aggregatedFrameA \n",
"\n",
"let filterD = numericFilterServeralCol (IsSmallerThan 100.) aggregatedFrameA \n",
"\n",
"\n",
"\n",
"let aggregatedFrameB = numAgAllCol Median aggregatedFrameA [\"Gen\"] (seqOfFilterMulty filterC filterD)\n",
"\n",
"aggregatedFrameB.Print()\n"]
          }],
            "metadata": {
            "kernelspec": {"display_name": ".NET (F#)", "language": "F#", "name": ".net-fsharp"},
            "langauge_info": {
        "file_extension": ".fs",
        "mimetype": "text/x-fsharp",
        "name": "C#",
        "pygments_lexer": "fsharp",
        "version": "4.5"
        }
        },
            "nbformat": 4,
            "nbformat_minor": 1
        }
        


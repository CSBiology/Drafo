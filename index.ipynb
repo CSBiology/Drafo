
        {
            "cells": [
          {
           "cell_type": "markdown",
           "metadata": {},
           
           "source": ["# Drafo documentation\n",
"\n",
"This library adds a DynamicObject called \u003cKey\u003e that can be used as row key of Deedle frames and series.\n",
"The functions in this library all either create frames with \u003cKey\u003e objects or work with frames or series that have \u003cKey\u003e objects.\n",
"The modules allow for easy creation of filters und processing of either series or frames.\n",
"\n",
"#### Table of contents\n",
"\n",
"* [Installation](#Installation)\n",
"\n",
"* [Usage](#Usage)\n",
"\n",
"* [Example](#Example)\n",
"\n",
"## Installation\n",
"\n",
"This library is available as nuget package(from [nuget]()):\n",
"\n",
"## Usage\n",
"\n",
"Add the NuGet package as reference and open Drafo/Drafo.Core and any module you want to use.\n",
"Because Drafo is build on Deedle it is highly recommended to use Deedle too.\n",
"\n",
"You can create your own frame, with \u003cKey\u003e objects as row keys, transform existing frames into frames that have \u003cKey\u003e objects\n",
"or read in csv files and then transform them.\n",
"\n",
"Then one can use the functions in the Drafo core or the modules to manipulate series or frames that have \u003cKey\u003e as row keys.\n",
"\n",
"## Example\n",
"\n",
"We have frame of floats that we use some operations of the Drafo library on. So first we have to index it,\n",
"for that we have to add columns that that are turned into \u003cKeys\u003e.\n",
"\n"]
          }
,
          {
           "cell_type": "code",
           "metadata": {},
            "execution_count": 2, "outputs": [
          {
           "data": {
            "text/plain": ["Column1 Column2 Gen TecRep BioRep ",
"Gen: A",
"TecRep: B",
"BioRep: D",
" -\u003e 2       4       A   B      D      ",
"Gen: A",
"TecRep: B",
"BioRep: E",
" -\u003e 4.5     5.5     A   B      E      ",
"Gen: A",
"TecRep: C",
"BioRep: D",
" -\u003e 3.7     6.9     A   C      D      ",
"Gen: A",
"TecRep: C",
"BioRep: E",
" -\u003e 2.9     5       A   C      E"]
        },
           "execution_count": 2,
           "metadata": {},
           "output_type": "execute_result"
          }],
           "source": ["let exampleFrame = \n",
"  frame [\n",
"    (\"Column1\")=\u003eseries [\"row1\"=\u003e2.;\"row2\"=\u003e4.5;\"row3\"=\u003e3.7;\"row4\"=\u003e2.9]\n",
"    (\"Column2\")=\u003eseries [\"row1\"=\u003e4.;\"row2\"=\u003e5.5;\"row3\"=\u003e6.9;\"row4\"=\u003e5.]\n",
"  ]\n",
"\n",
"let exampleFrameWithKeyCols =\n",
"  exampleFrame\n",
"  |\u003eFrame.addCol \"Gen\"(series [\"row1\"=\u003e\"A\";\"row2\"=\u003e\"A\";\"row3\"=\u003e\"A\";\"row4\"=\u003e\"A\"])\n",
"  |\u003eFrame.addCol \"TecRep\"(series [\"row1\"=\u003e\"B\";\"row2\"=\u003e\"B\";\"row3\"=\u003e\"C\";\"row4\"=\u003e\"C\"])\n",
"  |\u003eFrame.addCol \"BioRep\"(series [\"row1\"=\u003e\"D\";\"row2\"=\u003e\"E\";\"row3\"=\u003e\"D\";\"row4\"=\u003e\"E\"])\n",
"\n",
"let indexedFrameWithKeyCols = indexWithColumnValues [\"Gen\";\"TecRep\";\"BioRep\"] exampleFrameWithKeyCols\n",
"\n",
"indexedFrameWithKeyCols.Print()\n"]
          }
,
          {
           "cell_type": "markdown",
           "metadata": {},
           
           "source": ["as you can see, we have now a multi-tiered Key for each row that is unique. from this point one can go in several directions,\n",
"for example, one could subtract or add to all values in a series (Column) with the `transform` function or one could create\n",
"filters with the modules `GroupFilter` or `NumericFilter` or the `filter` function. Here we want to aggregate a single column.\n",
"\n"]
          }
,
          {
           "cell_type": "code",
           "metadata": {},
            "execution_count": 3, "outputs": [
          {
           "data": {
            "text/plain": ["Gen: A",
"TecRep: B",
" -\u003e 3.25 ",
"Gen: A",
"TecRep: C",
" -\u003e 3.3"]
        },
           "execution_count": 3,
           "metadata": {},
           "output_type": "execute_result"
          }],
           "source": ["let singleColumnAggregateMean = numAggregat Mean indexedFrameWithKeyCols \"Column1\" [\"Gen\";\"TecRep\"] (seq [])\n",
"\n",
"singleColumnAggregateMean.Print()\n"]
          }],
            "metadata": {
            "kernelspec": {"display_name": ".NET (F#)", "language": "F#", "name": ".net-fsharp"},
            "langauge_info": {
        "file_extension": ".fs",
        "mimetype": "text/x-fsharp",
        "name": "C#",
        "pygments_lexer": "fsharp",
        "version": "4.5"
        }
        },
            "nbformat": 4,
            "nbformat_minor": 1
        }
        

